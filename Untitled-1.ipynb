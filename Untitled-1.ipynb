{
 "metadata": {
  "language_info": {
   "codemirror_mode": {
    "name": "ipython",
    "version": 3
   },
   "file_extension": ".py",
   "mimetype": "text/x-python",
   "name": "python",
   "nbconvert_exporter": "python",
   "pygments_lexer": "ipython3",
   "version": "3.9.2"
  },
  "orig_nbformat": 2,
  "kernelspec": {
   "name": "python392jvsc74a57bd0b56e34a83057738b7959c0b63b0f15b57a969cc3bcbf27c704609471d1b42057",
   "display_name": "Python 3.9.2 64-bit ('PythonFirebase-V1QmVhFs')"
  },
  "metadata": {
   "interpreter": {
    "hash": "73d2fac5779e6fcb8bad795848d37f5f3269f03a9b11addfd255a35a461047c2"
   }
  }
 },
 "nbformat": 4,
 "nbformat_minor": 2,
 "cells": [
  {
   "cell_type": "code",
   "execution_count": 1,
   "metadata": {},
   "outputs": [],
   "source": [
    "from firebase import firebase"
   ]
  },
  {
   "cell_type": "code",
   "execution_count": 9,
   "metadata": {},
   "outputs": [
    {
     "output_type": "stream",
     "name": "stdout",
     "text": [
      "{'-MZVjKGpcmhF3hBFgBfT': {'msj': 'sisepuede', 'name': 'lasusana'}, '-MZVpgJof1lGsaXFOrfe': {'msj': 'Asistencia', 'name': 'Hassan Colio '}, '-MZaJn7Iw24jABQJFO6V': {'msj': 'Ingesu si me salio', 'name': 'Victor'}, '-MZeeXnfDoabuE4aLmKf': {'msj': 'Si asisti a su clase', 'name': 'Ivan'}, '-MZef1D2w6tlecpyztMd': {'msj': 'Si asisti a su clase', 'name': 'Jonathan'}}\n"
     ]
    }
   ],
   "source": [
    "db = firebase.FirebaseApplication(\"https://pythonfire-cb1ab-default-rtdb.firebaseio.com/\",None)\n",
    "\n",
    "result = db.get('/asistencia', None)\n",
    "\n",
    "print(result)"
   ]
  },
  {
   "cell_type": "code",
   "execution_count": 7,
   "metadata": {},
   "outputs": [
    {
     "output_type": "stream",
     "name": "stdout",
     "text": [
      "{'name': 'Jonathan', 'msj': 'Si asisti a su clase'}\n"
     ]
    }
   ],
   "source": [
    "class Student:\n",
    "    def __init__(self,name,msj):\n",
    "        self.name = name\n",
    "        self.msj = msj\n",
    "\n",
    "s1 = Student(\"Jonathan\",\"Si asisti a su clase\")\n",
    "\n",
    "data_s1 = vars(s1)\n",
    "print(data_s1)"
   ]
  },
  {
   "cell_type": "code",
   "execution_count": 8,
   "metadata": {},
   "outputs": [
    {
     "output_type": "stream",
     "name": "stdout",
     "text": [
      "Registre asistencia de Jonathan\n"
     ]
    }
   ],
   "source": [
    "db.post('/asistencia/',data_s1)\n",
    "print(f\"Registre asistencia de { data_s1['name'] }\")"
   ]
  },
  {
   "cell_type": "code",
   "execution_count": null,
   "metadata": {},
   "outputs": [],
   "source": []
  }
 ]
}